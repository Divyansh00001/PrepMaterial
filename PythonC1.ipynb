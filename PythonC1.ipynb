{
  "nbformat": 4,
  "nbformat_minor": 0,
  "metadata": {
    "colab": {
      "provenance": []
    },
    "kernelspec": {
      "name": "python3",
      "display_name": "Python 3"
    },
    "language_info": {
      "name": "python"
    }
  },
  "cells": [
    {
      "cell_type": "code",
      "execution_count": null,
      "metadata": {
        "colab": {
          "base_uri": "https://localhost:8080/"
        },
        "id": "pKq09AeTcE2r",
        "outputId": "ae563c74-0230-4a5b-d747-5f19a40f122a"
      },
      "outputs": [
        {
          "output_type": "stream",
          "name": "stdout",
          "text": [
            "True False\n"
          ]
        }
      ],
      "source": [
        "False\n",
        "print(True,False)\n"
      ]
    },
    {
      "cell_type": "markdown",
      "source": [],
      "metadata": {
        "id": "HGvA7mCdX0TP"
      }
    },
    {
      "cell_type": "code",
      "source": [
        "type(True)"
      ],
      "metadata": {
        "colab": {
          "base_uri": "https://localhost:8080/"
        },
        "id": "wO3clt5FM4aD",
        "outputId": "da8551d1-eaa5-48b7-cfbc-d2b4ce137548"
      },
      "execution_count": null,
      "outputs": [
        {
          "output_type": "execute_result",
          "data": {
            "text/plain": [
              "bool"
            ]
          },
          "metadata": {},
          "execution_count": 5
        }
      ]
    },
    {
      "cell_type": "code",
      "source": [],
      "metadata": {
        "id": "AtKmQjMqI_Of"
      },
      "execution_count": null,
      "outputs": []
    },
    {
      "cell_type": "code",
      "source": [
        "stri = \"divyansh01k\"\n",
        "stri.istitle()"
      ],
      "metadata": {
        "colab": {
          "base_uri": "https://localhost:8080/"
        },
        "id": "9gNOxc_dM-5c",
        "outputId": "d7ed3d81-7b96-47a9-ea21-d45e13c14ab2"
      },
      "execution_count": null,
      "outputs": [
        {
          "output_type": "execute_result",
          "data": {
            "text/plain": [
              "False"
            ]
          },
          "metadata": {},
          "execution_count": 20
        }
      ]
    },
    {
      "cell_type": "code",
      "source": [
        "print(stri.isalnum())#checks if the string comprises of only alphabets and numbers\n",
        "print(stri.isalpha())#checks if the string comprised of only alphabets\n",
        "print(stri.isdigit())#checks if the string comprises of only number\n",
        "print(stri.istitle())#checks if the first letter of the string is in capital letter\n",
        "print(stri.islower())#check if the string is in lowercase\n",
        "print(stri.isupper())#check if the string is in uppercase\n",
        "print(stri.isspace())#check if the string comprises of a space\n",
        "print(stri.endswith('K'))#check if the string ends with K letter(specifically uppercase)\n",
        "print(stri.startswith('k'))#check if the string starts with K letter(specifically uppercase)"
      ],
      "metadata": {
        "colab": {
          "base_uri": "https://localhost:8080/"
        },
        "id": "ago2XuGbNSsM",
        "outputId": "2e91ed72-ccba-4662-c304-a1797e03fb30"
      },
      "execution_count": null,
      "outputs": [
        {
          "output_type": "stream",
          "name": "stdout",
          "text": [
            "True\n",
            "False\n",
            "False\n",
            "False\n",
            "True\n",
            "False\n",
            "False\n",
            "False\n",
            "False\n"
          ]
        }
      ]
    },
    {
      "cell_type": "markdown",
      "source": [
        "\n",
        "**Boolean operators**"
      ],
      "metadata": {
        "id": "FJsdgSt3PPIH"
      }
    },
    {
      "cell_type": "code",
      "source": [
        "True and True\n",
        "False or True\n"
      ],
      "metadata": {
        "colab": {
          "base_uri": "https://localhost:8080/"
        },
        "id": "i8SJOxhSPWmw",
        "outputId": "4d1742ab-1b40-47ca-b63e-4eef38a551b7"
      },
      "execution_count": null,
      "outputs": [
        {
          "output_type": "execute_result",
          "data": {
            "text/plain": [
              "True"
            ]
          },
          "metadata": {},
          "execution_count": 22
        }
      ]
    },
    {
      "cell_type": "code",
      "source": [
        "strin = 'abcd'\n",
        "strin2 = 'abcde'\n",
        "strin.isalpha() or strin2.isnum()"
      ],
      "metadata": {
        "colab": {
          "base_uri": "https://localhost:8080/"
        },
        "id": "Srkm2y_GPlvF",
        "outputId": "dba93ff6-7831-43ba-87e0-3417037f5108"
      },
      "execution_count": null,
      "outputs": [
        {
          "output_type": "execute_result",
          "data": {
            "text/plain": [
              "True"
            ]
          },
          "metadata": {},
          "execution_count": 1
        }
      ]
    },
    {
      "cell_type": "markdown",
      "source": [
        "**List**\n",
        "\n",
        "*   Mutable\n",
        "*   Each element is called item\n",
        "*   Enclosed by square brackets []\n",
        "\n",
        "\n",
        "\n",
        "\n",
        "\n",
        "\n",
        "\n",
        "\n",
        "\n"
      ],
      "metadata": {
        "id": "jNcQsobU_A4G"
      }
    },
    {
      "cell_type": "code",
      "source": [
        "type([])\n"
      ],
      "metadata": {
        "colab": {
          "base_uri": "https://localhost:8080/"
        },
        "id": "LszAZPMW_0ZB",
        "outputId": "ece6de63-3141-4da9-b266-35b98312ac02"
      },
      "execution_count": null,
      "outputs": [
        {
          "output_type": "execute_result",
          "data": {
            "text/plain": [
              "list"
            ]
          },
          "metadata": {},
          "execution_count": 7
        }
      ]
    },
    {
      "cell_type": "code",
      "source": [
        "#defining an empty list\n",
        "lit = []\n",
        "type(lit)"
      ],
      "metadata": {
        "colab": {
          "base_uri": "https://localhost:8080/"
        },
        "id": "JS-Q2bJWCmvO",
        "outputId": "c4ef8c52-d357-4a3f-97f0-d8a80ba908ca"
      },
      "execution_count": null,
      "outputs": [
        {
          "output_type": "execute_result",
          "data": {
            "text/plain": [
              "list"
            ]
          },
          "metadata": {},
          "execution_count": 8
        }
      ]
    },
    {
      "cell_type": "code",
      "source": [
        "lit = [10,20,'abcd','hello',True,0]\n",
        "print(lit)"
      ],
      "metadata": {
        "colab": {
          "base_uri": "https://localhost:8080/"
        },
        "id": "1pCHj7XbC04y",
        "outputId": "d10684ab-4be7-47f6-901c-823525b6847b"
      },
      "execution_count": null,
      "outputs": [
        {
          "output_type": "stream",
          "name": "stdout",
          "text": [
            "[10, 20, 'abcd', 'hello', True, 0]\n"
          ]
        }
      ]
    },
    {
      "cell_type": "code",
      "source": [
        "len(lit)#finds length of list\n"
      ],
      "metadata": {
        "colab": {
          "base_uri": "https://localhost:8080/"
        },
        "id": "RsevcCqDDAzT",
        "outputId": "bfa8c88b-dc8f-4e40-e390-a87e5b54ff92"
      },
      "execution_count": null,
      "outputs": [
        {
          "output_type": "execute_result",
          "data": {
            "text/plain": [
              "6"
            ]
          },
          "metadata": {},
          "execution_count": 34
        }
      ]
    },
    {
      "cell_type": "markdown",
      "source": [
        "Appending list\n"
      ],
      "metadata": {
        "id": "mxrYxHYLDTrE"
      }
    },
    {
      "cell_type": "code",
      "source": [
        "#append single element\n",
        "lit.append(\"Krish\")\n",
        "print(lit)\n",
        "\n"
      ],
      "metadata": {
        "colab": {
          "base_uri": "https://localhost:8080/"
        },
        "id": "CnaTPsrkDX8E",
        "outputId": "b51eefa8-8d35-47ce-d03a-862c01e86896"
      },
      "execution_count": null,
      "outputs": [
        {
          "output_type": "stream",
          "name": "stdout",
          "text": [
            "[10, 20, 'abcd', 'hello', True, 0, 'Krish']\n"
          ]
        }
      ]
    },
    {
      "cell_type": "code",
      "source": [
        "#appending nested list(list inside list)\n",
        "lit.append([\"bala\",\"arjun\"])\n",
        "print(lit)"
      ],
      "metadata": {
        "colab": {
          "base_uri": "https://localhost:8080/"
        },
        "id": "u87cKYWxEWVS",
        "outputId": "6852beae-d904-4441-9dc2-bc8a30227eb9"
      },
      "execution_count": null,
      "outputs": [
        {
          "output_type": "stream",
          "name": "stdout",
          "text": [
            "[10, 20, 'abcd', 'hello', True, 0, 'Krish', ['bala', 'arjun']]\n"
          ]
        }
      ]
    },
    {
      "cell_type": "code",
      "source": [
        "lit[7]#index finding"
      ],
      "metadata": {
        "colab": {
          "base_uri": "https://localhost:8080/"
        },
        "id": "ijuIVNAIFPJS",
        "outputId": "51c5a31c-6597-4d06-e058-f80f12580534"
      },
      "execution_count": null,
      "outputs": [
        {
          "output_type": "execute_result",
          "data": {
            "text/plain": [
              "['bala', 'arjun']"
            ]
          },
          "metadata": {},
          "execution_count": 37
        }
      ]
    },
    {
      "cell_type": "code",
      "source": [
        "lit[1:5] #shows element from 1st index to 4th index"
      ],
      "metadata": {
        "colab": {
          "base_uri": "https://localhost:8080/"
        },
        "id": "DHQJTUHDFiND",
        "outputId": "a5bc5395-8d46-4bd6-b3b7-4eef8e9f0c19"
      },
      "execution_count": null,
      "outputs": [
        {
          "output_type": "execute_result",
          "data": {
            "text/plain": [
              "[20, 'abcd', 'hello', True]"
            ]
          },
          "metadata": {},
          "execution_count": 38
        }
      ]
    },
    {
      "cell_type": "markdown",
      "source": [
        "Insert"
      ],
      "metadata": {
        "id": "n2ZSOsO5GidQ"
      }
    },
    {
      "cell_type": "code",
      "source": [
        "lit.insert(2,\"Armaan\")#serial inserting by giving index,string to insert\n",
        "print(lit)\n"
      ],
      "metadata": {
        "colab": {
          "base_uri": "https://localhost:8080/"
        },
        "id": "weABIHnTI9Tp",
        "outputId": "93f486e8-4a37-4fdd-fd49-17fd216e524a"
      },
      "execution_count": null,
      "outputs": [
        {
          "output_type": "stream",
          "name": "stdout",
          "text": [
            "[10, 20, 'Armaan', 'abcd', 'hello', True, 0, 'Krish', ['bala', 'arjun']]\n"
          ]
        }
      ]
    },
    {
      "cell_type": "code",
      "source": [
        "lit.append([\"Hello\",\"World\"])"
      ],
      "metadata": {
        "id": "EfF7E7Y5KU66"
      },
      "execution_count": null,
      "outputs": []
    },
    {
      "cell_type": "code",
      "source": [
        "print(lit)"
      ],
      "metadata": {
        "colab": {
          "base_uri": "https://localhost:8080/"
        },
        "id": "Mv8Wsh_kKYte",
        "outputId": "f1703183-af81-49a2-934e-f40d6616b78c"
      },
      "execution_count": null,
      "outputs": [
        {
          "output_type": "stream",
          "name": "stdout",
          "text": [
            "[10, 20, 'Armaan', 'abcd', 'hello', True, 0, 'Krish', ['bala', 'arjun'], ['Hello', 'World']]\n"
          ]
        }
      ]
    },
    {
      "cell_type": "code",
      "source": [
        "#overwriting on list\n",
        "lit=[1,2,3,4,5]\n",
        "print(lit)"
      ],
      "metadata": {
        "colab": {
          "base_uri": "https://localhost:8080/"
        },
        "id": "5Boka92QKlo0",
        "outputId": "c3e4bb19-47c3-4036-eea9-51e4a9be9552"
      },
      "execution_count": null,
      "outputs": [
        {
          "output_type": "stream",
          "name": "stdout",
          "text": [
            "[1, 2, 3, 4, 5]\n"
          ]
        }
      ]
    },
    {
      "cell_type": "code",
      "source": [
        "lit.append([6,7])"
      ],
      "metadata": {
        "id": "3zoyVCMkKq9j"
      },
      "execution_count": null,
      "outputs": []
    },
    {
      "cell_type": "code",
      "source": [
        "print(lit)\n",
        "lit = [1,2,3,4,5]"
      ],
      "metadata": {
        "colab": {
          "base_uri": "https://localhost:8080/"
        },
        "id": "FwCdoFEQK0uh",
        "outputId": "e6c607b5-0e2e-4234-85b5-442ae7375a26"
      },
      "execution_count": null,
      "outputs": [
        {
          "output_type": "stream",
          "name": "stdout",
          "text": [
            "[1, 2, 3, 4, 5, [6, 7]]\n"
          ]
        }
      ]
    },
    {
      "cell_type": "markdown",
      "source": [
        "Operations to perform on list"
      ],
      "metadata": {
        "id": "3Gr0XarHJNd9"
      }
    },
    {
      "cell_type": "code",
      "source": [
        "lit = [1,2,3,4,5]\n",
        "sum(lit)\n"
      ],
      "metadata": {
        "id": "afmvqzgnJG04",
        "colab": {
          "base_uri": "https://localhost:8080/"
        },
        "outputId": "87aa9850-43a6-435e-d5bf-362c22686bd9"
      },
      "execution_count": 2,
      "outputs": [
        {
          "output_type": "execute_result",
          "data": {
            "text/plain": [
              "15"
            ]
          },
          "metadata": {},
          "execution_count": 2
        }
      ]
    },
    {
      "cell_type": "code",
      "source": [
        "lit*2"
      ],
      "metadata": {
        "colab": {
          "base_uri": "https://localhost:8080/"
        },
        "id": "noqnnbQmUW3f",
        "outputId": "98455d86-5b03-4525-b3ed-4e20e68ec12f"
      },
      "execution_count": 3,
      "outputs": [
        {
          "output_type": "execute_result",
          "data": {
            "text/plain": [
              "[1, 2, 3, 4, 5, 1, 2, 3, 4, 5]"
            ]
          },
          "metadata": {},
          "execution_count": 3
        }
      ]
    },
    {
      "cell_type": "markdown",
      "source": [
        "Extend"
      ],
      "metadata": {
        "id": "qc5_yM1CUjmu"
      }
    },
    {
      "cell_type": "code",
      "source": [
        "lit.extend([8,9])"
      ],
      "metadata": {
        "id": "Zoqs_3npUmGM"
      },
      "execution_count": 4,
      "outputs": []
    },
    {
      "cell_type": "code",
      "source": [
        "print(lit)"
      ],
      "metadata": {
        "colab": {
          "base_uri": "https://localhost:8080/"
        },
        "id": "cFJx9MF-Ur2U",
        "outputId": "f1971792-737c-4ae5-f961-07ceb59a52da"
      },
      "execution_count": 5,
      "outputs": [
        {
          "output_type": "stream",
          "name": "stdout",
          "text": [
            "[1, 2, 3, 4, 5, 8, 9]\n"
          ]
        }
      ]
    },
    {
      "cell_type": "code",
      "source": [
        "#pop method\n",
        "lit.pop(0)\n"
      ],
      "metadata": {
        "colab": {
          "base_uri": "https://localhost:8080/"
        },
        "id": "8Lj6lKwRUwWp",
        "outputId": "07cbcb6b-5bc5-4de2-bcbb-b87145f6f0a9"
      },
      "execution_count": 7,
      "outputs": [
        {
          "output_type": "execute_result",
          "data": {
            "text/plain": [
              "1"
            ]
          },
          "metadata": {},
          "execution_count": 7
        }
      ]
    },
    {
      "cell_type": "code",
      "source": [
        "print(lit)"
      ],
      "metadata": {
        "colab": {
          "base_uri": "https://localhost:8080/"
        },
        "id": "AJwFzXRCU8NV",
        "outputId": "7700971a-3313-42fe-c08b-46e41a8be4f8"
      },
      "execution_count": 8,
      "outputs": [
        {
          "output_type": "stream",
          "name": "stdout",
          "text": [
            "[2, 3, 4, 5, 8]\n"
          ]
        }
      ]
    },
    {
      "cell_type": "markdown",
      "source": [
        "count():Calculates total occurrence of given element of List"
      ],
      "metadata": {
        "id": "pO26umeyVMpw"
      }
    },
    {
      "cell_type": "code",
      "source": [
        "lst=[1,1,2,3,4,5]\n",
        "lst.count(1)"
      ],
      "metadata": {
        "colab": {
          "base_uri": "https://localhost:8080/"
        },
        "id": "smFm_Pe9VOYf",
        "outputId": "625925ce-d646-44ce-9b49-44f4dffccb81"
      },
      "execution_count": 9,
      "outputs": [
        {
          "output_type": "execute_result",
          "data": {
            "text/plain": [
              "2"
            ]
          },
          "metadata": {},
          "execution_count": 9
        }
      ]
    },
    {
      "cell_type": "code",
      "source": [
        "lst.index(1,0,4)"
      ],
      "metadata": {
        "colab": {
          "base_uri": "https://localhost:8080/"
        },
        "id": "uzH0MwHoVXjL",
        "outputId": "f06ebec1-7afc-453e-e14d-3089ee5b4500"
      },
      "execution_count": 11,
      "outputs": [
        {
          "output_type": "execute_result",
          "data": {
            "text/plain": [
              "0"
            ]
          },
          "metadata": {},
          "execution_count": 11
        }
      ]
    },
    {
      "cell_type": "code",
      "source": [
        "\n",
        "max(lst)"
      ],
      "metadata": {
        "colab": {
          "base_uri": "https://localhost:8080/"
        },
        "id": "XTQQJxCEVfKn",
        "outputId": "39cafd69-8256-48f8-d6ef-a30502d76404"
      },
      "execution_count": 13,
      "outputs": [
        {
          "output_type": "execute_result",
          "data": {
            "text/plain": [
              "5"
            ]
          },
          "metadata": {},
          "execution_count": 13
        }
      ]
    },
    {
      "cell_type": "code",
      "source": [
        "min(lst)"
      ],
      "metadata": {
        "colab": {
          "base_uri": "https://localhost:8080/"
        },
        "id": "6rHRby_6Vlx_",
        "outputId": "3bd0eea5-e284-4269-e74f-e0c45945f2c7"
      },
      "execution_count": 14,
      "outputs": [
        {
          "output_type": "execute_result",
          "data": {
            "text/plain": [
              "1"
            ]
          },
          "metadata": {},
          "execution_count": 14
        }
      ]
    }
  ]
}