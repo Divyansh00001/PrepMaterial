{
  "nbformat": 4,
  "nbformat_minor": 0,
  "metadata": {
    "colab": {
      "provenance": []
    },
    "kernelspec": {
      "name": "python3",
      "display_name": "Python 3"
    },
    "language_info": {
      "name": "python"
    }
  },
  "cells": [
    {
      "cell_type": "markdown",
      "source": [
        "# **List comprehension**"
      ],
      "metadata": {
        "id": "w76RXceKvW65"
      }
    },
    {
      "cell_type": "code",
      "execution_count": null,
      "metadata": {
        "colab": {
          "base_uri": "https://localhost:8080/"
        },
        "id": "BXDOoz2Vlmr7",
        "outputId": "33cff089-d740-4b3c-b274-f3853672c1be"
      },
      "outputs": [
        {
          "output_type": "execute_result",
          "data": {
            "text/plain": [
              "[4, 16, 36, 64]"
            ]
          },
          "metadata": {},
          "execution_count": 2
        }
      ],
      "source": [
        "lst = [1,2,3,4,5,6,7,8,9]\n",
        "[i*i for i in lst if i%2==0]"
      ]
    },
    {
      "cell_type": "markdown",
      "source": [
        "# **String Formatting**"
      ],
      "metadata": {
        "id": "7_eeLpKfvXoL"
      }
    },
    {
      "cell_type": "code",
      "source": [
        "print(\"Hello dj\")"
      ],
      "metadata": {
        "colab": {
          "base_uri": "https://localhost:8080/"
        },
        "id": "AXwsTJprvUj-",
        "outputId": "7dab42b9-3557-405f-de76-1ec299fc5204"
      },
      "execution_count": null,
      "outputs": [
        {
          "output_type": "stream",
          "name": "stdout",
          "text": [
            "Hello dj\n"
          ]
        }
      ]
    },
    {
      "cell_type": "code",
      "source": [
        "def greetName(name):\n",
        "  return \"My name is {}\".format(name)"
      ],
      "metadata": {
        "id": "ehl3PXb9vfNh"
      },
      "execution_count": null,
      "outputs": []
    },
    {
      "cell_type": "code",
      "source": [
        "greetName(\"Divyansh\")"
      ],
      "metadata": {
        "colab": {
          "base_uri": "https://localhost:8080/",
          "height": 36
        },
        "id": "PKNhPY-Tvo-P",
        "outputId": "385693c3-3aca-408d-9c63-a513b8066c1c"
      },
      "execution_count": null,
      "outputs": [
        {
          "output_type": "execute_result",
          "data": {
            "text/plain": [
              "'My name is Divyansh'"
            ],
            "application/vnd.google.colaboratory.intrinsic+json": {
              "type": "string"
            }
          },
          "metadata": {},
          "execution_count": 6
        }
      ]
    },
    {
      "cell_type": "code",
      "source": [
        "def goodMorning(name,age):\n",
        "  return \"Welcome {} you are {} years old\".format(name,age)"
      ],
      "metadata": {
        "id": "dQ5Ep2_DxFhm"
      },
      "execution_count": null,
      "outputs": []
    },
    {
      "cell_type": "code",
      "source": [
        "goodMorning(\"Divyansh\",22)"
      ],
      "metadata": {
        "colab": {
          "base_uri": "https://localhost:8080/",
          "height": 36
        },
        "id": "XsqOZNiDxex0",
        "outputId": "d6bd8903-8bf7-4077-fc13-2461de9c56f8"
      },
      "execution_count": null,
      "outputs": [
        {
          "output_type": "execute_result",
          "data": {
            "text/plain": [
              "'Welcome Divyansh you are 22 years old'"
            ],
            "application/vnd.google.colaboratory.intrinsic+json": {
              "type": "string"
            }
          },
          "metadata": {},
          "execution_count": 10
        }
      ]
    },
    {
      "cell_type": "code",
      "source": [
        "def goodMorning(name,age):\n",
        "  return \"Welcome {name} you are {age} years old\".format(age = name , name = age)"
      ],
      "metadata": {
        "id": "PSzn-ClKxoY7"
      },
      "execution_count": null,
      "outputs": []
    },
    {
      "cell_type": "code",
      "source": [
        "goodMorning(\"dj\",\"22\")"
      ],
      "metadata": {
        "colab": {
          "base_uri": "https://localhost:8080/",
          "height": 36
        },
        "id": "P3_lt7E2xyTe",
        "outputId": "fbad7caf-c44e-4eea-fb6e-3965d982bff1"
      },
      "execution_count": null,
      "outputs": [
        {
          "output_type": "execute_result",
          "data": {
            "text/plain": [
              "'Welcome 22 you are dj years old'"
            ],
            "application/vnd.google.colaboratory.intrinsic+json": {
              "type": "string"
            }
          },
          "metadata": {},
          "execution_count": 17
        }
      ]
    },
    {
      "cell_type": "markdown",
      "source": [
        "# **Iterators and Iterables**"
      ],
      "metadata": {
        "id": "NyXovP9mvkCb"
      }
    },
    {
      "cell_type": "code",
      "source": [
        "#this is iterable\n",
        "lst = [1,2,3,4,5,6,7]\n",
        "for i in lst:\n",
        "  print(i)"
      ],
      "metadata": {
        "colab": {
          "base_uri": "https://localhost:8080/"
        },
        "id": "gG4wrYJavik-",
        "outputId": "f91a40f0-4227-4c18-f0b8-a01be6988b5a"
      },
      "execution_count": null,
      "outputs": [
        {
          "output_type": "stream",
          "name": "stdout",
          "text": [
            "1\n",
            "2\n",
            "3\n",
            "4\n",
            "5\n",
            "6\n",
            "7\n"
          ]
        }
      ]
    },
    {
      "cell_type": "code",
      "source": [
        "#this is iterator\n",
        "lst1 = iter(lst)\n",
        "next(lst1)"
      ],
      "metadata": {
        "colab": {
          "base_uri": "https://localhost:8080/"
        },
        "id": "ZD_0cJ-iv1zn",
        "outputId": "d6179959-f406-4036-84c0-711d7a596994"
      },
      "execution_count": null,
      "outputs": [
        {
          "output_type": "execute_result",
          "data": {
            "text/plain": [
              "1"
            ]
          },
          "metadata": {},
          "execution_count": 5
        }
      ]
    },
    {
      "cell_type": "code",
      "source": [
        "#iterator can also be run in for loop ,stop iterating exception is already handled in for loop\n",
        "for i in lst1:\n",
        "  print(i)"
      ],
      "metadata": {
        "colab": {
          "base_uri": "https://localhost:8080/"
        },
        "id": "6tyHfzYmwMzf",
        "outputId": "f2db0731-a531-46d8-fe89-ea5051b9081c"
      },
      "execution_count": null,
      "outputs": [
        {
          "output_type": "stream",
          "name": "stdout",
          "text": [
            "2\n",
            "3\n",
            "4\n",
            "5\n",
            "6\n",
            "7\n"
          ]
        }
      ]
    }
  ]
}