{
  "nbformat": 4,
  "nbformat_minor": 0,
  "metadata": {
    "colab": {
      "provenance": []
    },
    "kernelspec": {
      "name": "python3",
      "display_name": "Python 3"
    },
    "language_info": {
      "name": "python"
    }
  },
  "cells": [
    {
      "cell_type": "markdown",
      "source": [
        "### **Numpy**\n",
        "\n",
        "Used for multidimensional arrays also and provides inbuilt function to work with arrays\n",
        "\n",
        "1.  NumPy is a general-purpose array-processing package\n",
        "2.  Used for multidimensional arrays also and provides inbuilt function to work with arrays\n",
        "3.  \n",
        "fundamental package for scientific computing with Python\n",
        "\n",
        "\n"
      ],
      "metadata": {
        "id": "TPJkMnIOkp1a"
      }
    },
    {
      "cell_type": "code",
      "execution_count": 5,
      "metadata": {
        "id": "kRUfwJcs6TD5"
      },
      "outputs": [],
      "source": [
        "#importing numpy module\n",
        "import numpy as np"
      ]
    },
    {
      "cell_type": "code",
      "source": [
        "#converting list to array\n",
        "lst = [1,2,3,4,5]\n",
        "arr = np.array(lst)"
      ],
      "metadata": {
        "id": "eYw0IddO7ZFD"
      },
      "execution_count": 6,
      "outputs": []
    },
    {
      "cell_type": "code",
      "source": [
        "print(arr)\n",
        "type(arr)"
      ],
      "metadata": {
        "colab": {
          "base_uri": "https://localhost:8080/"
        },
        "id": "rKS7T21u7t60",
        "outputId": "04b52d4a-f1b4-48f8-9b14-43e317a02640"
      },
      "execution_count": 7,
      "outputs": [
        {
          "output_type": "stream",
          "name": "stdout",
          "text": [
            "[1 2 3 4 5]\n"
          ]
        },
        {
          "output_type": "execute_result",
          "data": {
            "text/plain": [
              "numpy.ndarray"
            ]
          },
          "metadata": {},
          "execution_count": 7
        }
      ]
    },
    {
      "cell_type": "code",
      "source": [
        "#multidimensional array\n",
        "lst1 =[1,2,3,4,5]\n",
        "lst2 =[6,7,8,9,10]\n",
        "lst3 =[11,12,13,14,15]\n",
        "arr = np.array([lst1,lst2,lst3])\n",
        "print(arr)"
      ],
      "metadata": {
        "colab": {
          "base_uri": "https://localhost:8080/"
        },
        "id": "t3nuMh_m8IAC",
        "outputId": "7408eca5-9b4e-4b0e-b181-bbcdd8998bbe"
      },
      "execution_count": 16,
      "outputs": [
        {
          "output_type": "stream",
          "name": "stdout",
          "text": [
            "[[ 1  2  3  4  5]\n",
            " [ 6  7  8  9 10]\n",
            " [11 12 13 14 15]]\n"
          ]
        }
      ]
    },
    {
      "cell_type": "code",
      "source": [
        "#shape-shows the number of row and column\n",
        "arr.shape"
      ],
      "metadata": {
        "colab": {
          "base_uri": "https://localhost:8080/"
        },
        "id": "oxhaNlPx8jeB",
        "outputId": "eda63394-24f6-4c14-9a46-b09f91a942f4"
      },
      "execution_count": 9,
      "outputs": [
        {
          "output_type": "execute_result",
          "data": {
            "text/plain": [
              "(3, 5)"
            ]
          },
          "metadata": {},
          "execution_count": 9
        }
      ]
    },
    {
      "cell_type": "code",
      "source": [
        "#reshape-means converting array row and column dimensions\n",
        "arr.reshape(1,15)"
      ],
      "metadata": {
        "colab": {
          "base_uri": "https://localhost:8080/"
        },
        "id": "UNchZ8WX8pdv",
        "outputId": "58a168aa-9f79-4e1a-d13c-edccd4548962"
      },
      "execution_count": 10,
      "outputs": [
        {
          "output_type": "execute_result",
          "data": {
            "text/plain": [
              "array([[ 1,  2,  3,  4,  5,  6,  7,  8,  9, 10, 11, 12, 13, 14, 15]])"
            ]
          },
          "metadata": {},
          "execution_count": 10
        }
      ]
    },
    {
      "cell_type": "code",
      "source": [
        "#Indexing\n",
        "arr = np.array([1,2,3,4,5,6,7,8,9,10])\n",
        "arr[3]"
      ],
      "metadata": {
        "colab": {
          "base_uri": "https://localhost:8080/"
        },
        "id": "Fxe5Xz_KbdDD",
        "outputId": "037a0adf-e58b-4a49-b94d-35a0e43c1c33"
      },
      "execution_count": 22,
      "outputs": [
        {
          "output_type": "execute_result",
          "data": {
            "text/plain": [
              "4"
            ]
          },
          "metadata": {},
          "execution_count": 22
        }
      ]
    },
    {
      "cell_type": "code",
      "source": [
        "arr"
      ],
      "metadata": {
        "colab": {
          "base_uri": "https://localhost:8080/"
        },
        "id": "F64S6aOBb8Nx",
        "outputId": "5cfb8ea0-4301-4fb0-8af0-879c262c24d7"
      },
      "execution_count": 17,
      "outputs": [
        {
          "output_type": "execute_result",
          "data": {
            "text/plain": [
              "array([[ 1,  2,  3,  4,  5],\n",
              "       [ 6,  7,  8,  9, 10],\n",
              "       [11, 12, 13, 14, 15]])"
            ]
          },
          "metadata": {},
          "execution_count": 17
        }
      ]
    },
    {
      "cell_type": "code",
      "source": [
        "#Indexing in multidimensional array\n",
        "arr[1:,3:]"
      ],
      "metadata": {
        "colab": {
          "base_uri": "https://localhost:8080/"
        },
        "id": "X3FkAvD-cB1U",
        "outputId": "3d1248c9-e652-4ea2-949a-45ce4770ff89"
      },
      "execution_count": 19,
      "outputs": [
        {
          "output_type": "execute_result",
          "data": {
            "text/plain": [
              "array([[ 9, 10],\n",
              "       [14, 15]])"
            ]
          },
          "metadata": {},
          "execution_count": 19
        }
      ]
    },
    {
      "cell_type": "code",
      "source": [
        "arr[0:,1:3]"
      ],
      "metadata": {
        "colab": {
          "base_uri": "https://localhost:8080/"
        },
        "id": "JGyCpt_hci1i",
        "outputId": "0e2f038d-d50f-4f83-c133-cd122828ec83"
      },
      "execution_count": 21,
      "outputs": [
        {
          "output_type": "execute_result",
          "data": {
            "text/plain": [
              "array([[ 2,  3],\n",
              "       [ 7,  8],\n",
              "       [12, 13]])"
            ]
          },
          "metadata": {},
          "execution_count": 21
        }
      ]
    },
    {
      "cell_type": "code",
      "source": [
        "arr[3:]=100\n",
        "print(arr)"
      ],
      "metadata": {
        "colab": {
          "base_uri": "https://localhost:8080/"
        },
        "id": "VU3dNuUgc2Sl",
        "outputId": "dbdd0e2c-ba71-4282-db4b-c73ab7bdd66d"
      },
      "execution_count": 25,
      "outputs": [
        {
          "output_type": "stream",
          "name": "stdout",
          "text": [
            "[  1   2   3 100 100 100 100 100 100 100]\n"
          ]
        }
      ]
    },
    {
      "cell_type": "code",
      "source": [
        "#arange = generating integers in a given range with provided step(default step is always 1)\n",
        "arr=np.arange(0,31,step=3)\n",
        "print(arr)"
      ],
      "metadata": {
        "colab": {
          "base_uri": "https://localhost:8080/"
        },
        "id": "lnkIqchhdL-n",
        "outputId": "a81bed35-5617-4b9e-8924-e2abf403f55f"
      },
      "execution_count": 30,
      "outputs": [
        {
          "output_type": "stream",
          "name": "stdout",
          "text": [
            "[ 0  3  6  9 12 15 18 21 24 27 30]\n"
          ]
        }
      ]
    },
    {
      "cell_type": "code",
      "source": [
        "# linspace distributes number into equal parts within a range(start,stop,no of divisions)\n",
        "np.linspace(1,10,55)"
      ],
      "metadata": {
        "colab": {
          "base_uri": "https://localhost:8080/"
        },
        "id": "Ke0yGmbVexkQ",
        "outputId": "7c49d499-8acf-435e-ac48-381ddbf03843"
      },
      "execution_count": 32,
      "outputs": [
        {
          "output_type": "execute_result",
          "data": {
            "text/plain": [
              "array([ 1.        ,  1.16666667,  1.33333333,  1.5       ,  1.66666667,\n",
              "        1.83333333,  2.        ,  2.16666667,  2.33333333,  2.5       ,\n",
              "        2.66666667,  2.83333333,  3.        ,  3.16666667,  3.33333333,\n",
              "        3.5       ,  3.66666667,  3.83333333,  4.        ,  4.16666667,\n",
              "        4.33333333,  4.5       ,  4.66666667,  4.83333333,  5.        ,\n",
              "        5.16666667,  5.33333333,  5.5       ,  5.66666667,  5.83333333,\n",
              "        6.        ,  6.16666667,  6.33333333,  6.5       ,  6.66666667,\n",
              "        6.83333333,  7.        ,  7.16666667,  7.33333333,  7.5       ,\n",
              "        7.66666667,  7.83333333,  8.        ,  8.16666667,  8.33333333,\n",
              "        8.5       ,  8.66666667,  8.83333333,  9.        ,  9.16666667,\n",
              "        9.33333333,  9.5       ,  9.66666667,  9.83333333, 10.        ])"
            ]
          },
          "metadata": {},
          "execution_count": 32
        }
      ]
    },
    {
      "cell_type": "code",
      "source": [
        "#copy function and broadcasting\n",
        "arr1=arr\n",
        "arr1[3:]=500\n",
        "print(arr1)\n",
        "print(arr)"
      ],
      "metadata": {
        "colab": {
          "base_uri": "https://localhost:8080/"
        },
        "id": "Y4QEuyBCe7pU",
        "outputId": "dbed6db8-02a4-46b6-cd92-e475fe55a851"
      },
      "execution_count": 36,
      "outputs": [
        {
          "output_type": "stream",
          "name": "stdout",
          "text": [
            "[  0   3   6 500 500 500 500 500 500 500 500]\n",
            "[  0   3   6 500 500 500 500 500 500 500 500]\n"
          ]
        }
      ]
    },
    {
      "cell_type": "code",
      "source": [
        "#Exploratory data analytics important condition\n",
        "val = 3\n",
        "arr<val\n",
        "arr[arr<3]\n"
      ],
      "metadata": {
        "colab": {
          "base_uri": "https://localhost:8080/"
        },
        "id": "A4RrIU2Mf2ex",
        "outputId": "ee9c8add-b3f2-40b1-c77d-0bfc07795088"
      },
      "execution_count": 39,
      "outputs": [
        {
          "output_type": "execute_result",
          "data": {
            "text/plain": [
              "array([0])"
            ]
          },
          "metadata": {},
          "execution_count": 39
        }
      ]
    },
    {
      "cell_type": "code",
      "source": [
        "np.arange(0,10).reshape(5,2)"
      ],
      "metadata": {
        "colab": {
          "base_uri": "https://localhost:8080/"
        },
        "id": "NTfW-LHQggPw",
        "outputId": "c83decdd-9f69-4b6e-dd92-d636b79c4d4a"
      },
      "execution_count": 40,
      "outputs": [
        {
          "output_type": "execute_result",
          "data": {
            "text/plain": [
              "array([[0, 1],\n",
              "       [2, 3],\n",
              "       [4, 5],\n",
              "       [6, 7],\n",
              "       [8, 9]])"
            ]
          },
          "metadata": {},
          "execution_count": 40
        }
      ]
    },
    {
      "cell_type": "code",
      "source": [
        "#generating ones with integer data type\n",
        "np.ones(4,dtype=int)\n"
      ],
      "metadata": {
        "colab": {
          "base_uri": "https://localhost:8080/"
        },
        "id": "YXD1-UaIgh9K",
        "outputId": "86104014-cbe5-4a5f-ac1b-1025b6e63d75"
      },
      "execution_count": 43,
      "outputs": [
        {
          "output_type": "execute_result",
          "data": {
            "text/plain": [
              "array([1, 1, 1, 1])"
            ]
          },
          "metadata": {},
          "execution_count": 43
        }
      ]
    },
    {
      "cell_type": "code",
      "source": [
        "np.ones((2,5),dtype=int)"
      ],
      "metadata": {
        "colab": {
          "base_uri": "https://localhost:8080/"
        },
        "id": "uJSTG-1xiCTV",
        "outputId": "96de9b22-6f8b-4bfd-fb34-b5758014d13a"
      },
      "execution_count": 44,
      "outputs": [
        {
          "output_type": "execute_result",
          "data": {
            "text/plain": [
              "array([[1, 1, 1, 1, 1],\n",
              "       [1, 1, 1, 1, 1]])"
            ]
          },
          "metadata": {},
          "execution_count": 44
        }
      ]
    },
    {
      "cell_type": "code",
      "source": [
        "#This function provides random distribution between 0 and 1 within given dimension\n",
        "np.random.rand(2,5)"
      ],
      "metadata": {
        "colab": {
          "base_uri": "https://localhost:8080/"
        },
        "id": "Cg82TpLcjNw5",
        "outputId": "1f9d3c67-6f40-434a-d09a-a741a6e4f7e8"
      },
      "execution_count": 47,
      "outputs": [
        {
          "output_type": "execute_result",
          "data": {
            "text/plain": [
              "array([[0.11901761, 0.40945923, 0.10409943, 0.10693159, 0.85903585],\n",
              "       [0.6545499 , 0.62602886, 0.53454127, 0.70417846, 0.26006591]])"
            ]
          },
          "metadata": {},
          "execution_count": 47
        }
      ]
    },
    {
      "cell_type": "code",
      "source": [
        "arr_ex=np.random.randn(4,4)\n",
        "print(arr_ex)"
      ],
      "metadata": {
        "colab": {
          "base_uri": "https://localhost:8080/"
        },
        "id": "81oGsK_Nj5rL",
        "outputId": "23f7395e-92c9-402a-99ff-afb9352c46c6"
      },
      "execution_count": 49,
      "outputs": [
        {
          "output_type": "stream",
          "name": "stdout",
          "text": [
            "[[ 1.83766374  1.05263233  0.48905226  0.05243197]\n",
            " [ 2.02785531 -0.2062322  -1.40881133 -1.192274  ]\n",
            " [ 0.09635875  1.10426399  1.20918417  0.84600525]\n",
            " [ 0.61459126 -1.31639376 -0.80952509 -1.09266998]]\n"
          ]
        }
      ]
    }
  ]
}