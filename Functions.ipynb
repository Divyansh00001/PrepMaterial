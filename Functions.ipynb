{
  "nbformat": 4,
  "nbformat_minor": 0,
  "metadata": {
    "colab": {
      "provenance": []
    },
    "kernelspec": {
      "name": "python3",
      "display_name": "Python 3"
    },
    "language_info": {
      "name": "python"
    }
  },
  "cells": [
    {
      "cell_type": "code",
      "execution_count": 3,
      "metadata": {
        "id": "WwJjNwz5gtS0"
      },
      "outputs": [],
      "source": [
        "def isOdd(num):\n",
        "  if num%2==0:\n",
        "    print(\"The number is even\")\n",
        "  else:\n",
        "    print(\"The number is odd\")"
      ]
    },
    {
      "cell_type": "code",
      "source": [
        "isOdd(27)"
      ],
      "metadata": {
        "colab": {
          "base_uri": "https://localhost:8080/"
        },
        "id": "PwucA2dShG1R",
        "outputId": "48da15b9-39c2-4275-ba68-f85d3976152a"
      },
      "execution_count": 4,
      "outputs": [
        {
          "output_type": "stream",
          "name": "stdout",
          "text": [
            "The number is odd\n"
          ]
        }
      ]
    },
    {
      "cell_type": "code",
      "source": [
        "def prnt():\n",
        "  return \"HELLO WORLD\""
      ],
      "metadata": {
        "id": "pCXv3RQMhS0y"
      },
      "execution_count": 5,
      "outputs": []
    },
    {
      "cell_type": "code",
      "source": [
        "val = prnt()\n"
      ],
      "metadata": {
        "id": "Ifx23dxShdhX"
      },
      "execution_count": 6,
      "outputs": []
    },
    {
      "cell_type": "code",
      "source": [
        "def is_Sum(num1,num2):\n",
        "  return num1+num2"
      ],
      "metadata": {
        "id": "C9uxt5HQT3DT"
      },
      "execution_count": 7,
      "outputs": []
    },
    {
      "cell_type": "code",
      "source": [
        "val  = is_Sum(10,20)\n",
        "val\n"
      ],
      "metadata": {
        "colab": {
          "base_uri": "https://localhost:8080/"
        },
        "id": "GU7eYJOIT-U_",
        "outputId": "2d89fff0-4144-4285-dc62-65cc79f8c30e"
      },
      "execution_count": 10,
      "outputs": [
        {
          "output_type": "execute_result",
          "data": {
            "text/plain": [
              "30"
            ]
          },
          "metadata": {},
          "execution_count": 10
        }
      ]
    },
    {
      "cell_type": "code",
      "source": [
        "#positional keyword - only the key  is given\n",
        "#argument keyword - it is given in the form of key value pair\n",
        "\n",
        "def hello_jii(name,age = 29):\n",
        "  print(\"My name is {} and my age is {}\".format(name,age))"
      ],
      "metadata": {
        "id": "bsWrX2OaUTCT"
      },
      "execution_count": 12,
      "outputs": []
    },
    {
      "cell_type": "code",
      "source": [
        "hello_jii('Divyansh')"
      ],
      "metadata": {
        "colab": {
          "base_uri": "https://localhost:8080/"
        },
        "id": "DGN1430BVVPP",
        "outputId": "cb67fd27-c01a-42ec-ebd8-679fafab19db"
      },
      "execution_count": 14,
      "outputs": [
        {
          "output_type": "stream",
          "name": "stdout",
          "text": [
            "My name is Divyansh and my age is  29\n"
          ]
        }
      ]
    },
    {
      "cell_type": "code",
      "source": [
        "def func(*args,**kwargs):\n",
        "  print(args)\n",
        "  print(kwargs)"
      ],
      "metadata": {
        "id": "TLNJbwkNVpQD"
      },
      "execution_count": 15,
      "outputs": []
    },
    {
      "cell_type": "code",
      "source": [
        "lst =['divyansh',74]\n",
        "dict = {'name':'Divyansh', 'score': 74}\n",
        "func(*lst,**dict)"
      ],
      "metadata": {
        "colab": {
          "base_uri": "https://localhost:8080/"
        },
        "id": "C8deiBduWj3U",
        "outputId": "45cd35a4-b8c2-4c07-ce16-bf2388514279"
      },
      "execution_count": 17,
      "outputs": [
        {
          "output_type": "stream",
          "name": "stdout",
          "text": [
            "('divyansh', 74)\n",
            "{'name': 'Divyansh', 'score': 74}\n"
          ]
        }
      ]
    },
    {
      "cell_type": "code",
      "source": [
        "lst = [1,2,3,4,5,6,7]"
      ],
      "metadata": {
        "id": "qppN1fnnW_Ev"
      },
      "execution_count": 18,
      "outputs": []
    },
    {
      "cell_type": "code",
      "source": [
        "def find_odd_Even(lst):\n",
        "  for i in lst:\n",
        "    if i%2==0:\n",
        "      even_Sum = even_Sum + i\n",
        "    else:\n",
        "      odd_Sum = odd_Sum + i\n",
        "\n",
        "  return even_Sum,odd_Sum\n"
      ],
      "metadata": {
        "id": "dIVzE-TyXUNJ"
      },
      "execution_count": 20,
      "outputs": []
    },
    {
      "cell_type": "code",
      "source": [
        "#lambda function- a function which has no name\n",
        "addition = lambda a,b : a+b\n",
        "addition(12,14)"
      ],
      "metadata": {
        "colab": {
          "base_uri": "https://localhost:8080/"
        },
        "id": "SrNZoPCEnnB9",
        "outputId": "6cc3b30f-1496-41eb-81e0-17abf0391de1"
      },
      "execution_count": 3,
      "outputs": [
        {
          "output_type": "execute_result",
          "data": {
            "text/plain": [
              "26"
            ]
          },
          "metadata": {},
          "execution_count": 3
        }
      ]
    },
    {
      "cell_type": "code",
      "source": [
        "even = lambda a: a%2==0\n",
        "even(25)"
      ],
      "metadata": {
        "colab": {
          "base_uri": "https://localhost:8080/"
        },
        "id": "8fnbv_TcobRa",
        "outputId": "2ca4973a-0281-47ee-f798-706beff0c39f"
      },
      "execution_count": 5,
      "outputs": [
        {
          "output_type": "execute_result",
          "data": {
            "text/plain": [
              "False"
            ]
          },
          "metadata": {},
          "execution_count": 5
        }
      ]
    },
    {
      "cell_type": "code",
      "source": [
        "val = lambda x,y,z:x+y+z\n",
        "val(2,4,6)\n"
      ],
      "metadata": {
        "colab": {
          "base_uri": "https://localhost:8080/"
        },
        "id": "wo5t7vi4ohqt",
        "outputId": "0cc61b8b-1911-4ef6-8eeb-7741fdf32645"
      },
      "execution_count": 8,
      "outputs": [
        {
          "output_type": "execute_result",
          "data": {
            "text/plain": [
              "12"
            ]
          },
          "metadata": {},
          "execution_count": 8
        }
      ]
    },
    {
      "cell_type": "markdown",
      "source": [
        "# Map Function in python"
      ],
      "metadata": {
        "id": "mrrC5M4XpTm-"
      }
    },
    {
      "cell_type": "code",
      "source": [
        "def isOdd(num):\n",
        "  if num%2==0:\n",
        "    return \"Even\"\n",
        "  else:\n",
        "    return \"Odd\""
      ],
      "metadata": {
        "id": "Og_TswlZplwR"
      },
      "execution_count": 12,
      "outputs": []
    },
    {
      "cell_type": "code",
      "source": [
        "lst = [1,2,3,4,5,6,7]\n"
      ],
      "metadata": {
        "id": "z2beyMfCr-MM"
      },
      "execution_count": 13,
      "outputs": []
    },
    {
      "cell_type": "code",
      "source": [
        "list(map(isOdd,lst))"
      ],
      "metadata": {
        "colab": {
          "base_uri": "https://localhost:8080/"
        },
        "id": "EIDHJxo6sZpF",
        "outputId": "7d8e6f6a-817e-47ac-c205-fe9c936f4ca1"
      },
      "execution_count": 14,
      "outputs": [
        {
          "output_type": "execute_result",
          "data": {
            "text/plain": [
              "['Odd', 'Even', 'Odd', 'Even', 'Odd', 'Even', 'Odd']"
            ]
          },
          "metadata": {},
          "execution_count": 14
        }
      ]
    },
    {
      "cell_type": "markdown",
      "source": [
        "# Filter Functions"
      ],
      "metadata": {
        "id": "6CXnGjxsuV9S"
      }
    },
    {
      "cell_type": "code",
      "source": [
        "def isEven(num):\n",
        "  if num%2==0:\n",
        "    return True"
      ],
      "metadata": {
        "id": "8oWjiQKcub3e"
      },
      "execution_count": 16,
      "outputs": []
    },
    {
      "cell_type": "code",
      "source": [
        "lst = [2,3,4,5,6,7,8]\n",
        "list(filter(isEven,lst))"
      ],
      "metadata": {
        "colab": {
          "base_uri": "https://localhost:8080/"
        },
        "id": "KZm8APwzuq3g",
        "outputId": "ab55c8e3-6dc2-47ad-eb9e-1999b2c574a5"
      },
      "execution_count": 17,
      "outputs": [
        {
          "output_type": "execute_result",
          "data": {
            "text/plain": [
              "[2, 4, 6, 8]"
            ]
          },
          "metadata": {},
          "execution_count": 17
        }
      ]
    },
    {
      "cell_type": "code",
      "source": [
        "#filter to lambda\n",
        "list(filter(lambda num: num%2==0,lst))\n"
      ],
      "metadata": {
        "colab": {
          "base_uri": "https://localhost:8080/"
        },
        "id": "FlaZEAbUu0Kh",
        "outputId": "72d99551-a9a7-437d-e7b7-eae87939ecb9"
      },
      "execution_count": 19,
      "outputs": [
        {
          "output_type": "execute_result",
          "data": {
            "text/plain": [
              "[2, 4, 6, 8]"
            ]
          },
          "metadata": {},
          "execution_count": 19
        }
      ]
    },
    {
      "cell_type": "code",
      "source": [
        "list(map(lambda num: num%2==0,lst))"
      ],
      "metadata": {
        "colab": {
          "base_uri": "https://localhost:8080/"
        },
        "id": "kWG3qkI-vRM1",
        "outputId": "af040ebd-c5f3-4e4c-d00b-fbbf754dea43"
      },
      "execution_count": 20,
      "outputs": [
        {
          "output_type": "execute_result",
          "data": {
            "text/plain": [
              "[True, False, True, False, True, False, True]"
            ]
          },
          "metadata": {},
          "execution_count": 20
        }
      ]
    }
  ]
}